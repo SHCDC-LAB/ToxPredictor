{
 "cells": [
  {
   "cell_type": "code",
   "execution_count": 10,
   "outputs": [
    {
     "name": "stderr",
     "output_type": "stream",
     "text": [
      "[11:20:35] WARNING: not removing hydrogen atom without neighbors\n",
      "[11:20:36] WARNING: not removing hydrogen atom without neighbors\n",
      "[11:20:36] WARNING: not removing hydrogen atom without neighbors\n",
      "[11:20:36] WARNING: not removing hydrogen atom without neighbors\n",
      "[11:20:36] WARNING: not removing hydrogen atom without neighbors\n",
      "[11:20:36] WARNING: not removing hydrogen atom without neighbors\n",
      "C:\\Users\\SCDC\\anaconda3\\envs\\pythonProject\\Lib\\site-packages\\lightning\\pytorch\\utilities\\parsing.py:208: Attribute 'mp' is an instance of `nn.Module` and is already saved during checkpointing. It is recommended to ignore them using `self.save_hyperparameters(ignore=['mp'])`.\n",
      "C:\\Users\\SCDC\\anaconda3\\envs\\pythonProject\\Lib\\site-packages\\lightning\\pytorch\\utilities\\parsing.py:208: Attribute 'ffn' is an instance of `nn.Module` and is already saved during checkpointing. It is recommended to ignore them using `self.save_hyperparameters(ignore=['ffn'])`.\n",
      "GPU available: False, used: False\n",
      "TPU available: False, using: 0 TPU cores\n",
      "HPU available: False, using: 0 HPUs\n",
      "C:\\Users\\SCDC\\anaconda3\\envs\\pythonProject\\Lib\\site-packages\\torch\\optim\\lr_scheduler.py:28: UserWarning: The verbose parameter is deprecated. Please use get_last_lr() to access the learning rate.\n",
      "  warnings.warn(\"The verbose parameter is deprecated. Please use get_last_lr() \"\n",
      "\n",
      "  | Name            | Type                    | Params | Mode \n",
      "--------------------------------------------------------------------\n",
      "0 | message_passing | BondMessagePassing      | 227 K  | train\n",
      "1 | agg             | MeanAggregation         | 0      | train\n",
      "2 | bn              | Identity                | 0      | train\n",
      "3 | predictor       | BinaryClassificationFFN | 90.6 K | train\n",
      "4 | X_d_transform   | Identity                | 0      | train\n",
      "5 | metrics         | ModuleList              | 0      | train\n",
      "--------------------------------------------------------------------\n",
      "318 K     Trainable params\n",
      "0         Non-trainable params\n",
      "318 K     Total params\n",
      "1.273     Total estimated model params size (MB)\n",
      "24        Modules in train mode\n",
      "0         Modules in eval mode\n"
     ]
    },
    {
     "data": {
      "text/plain": "Sanity Checking: |          | 0/? [00:00<?, ?it/s]",
      "application/vnd.jupyter.widget-view+json": {
       "version_major": 2,
       "version_minor": 0,
       "model_id": "6d91b1ae8a8349829a66abf5385a5bee"
      }
     },
     "metadata": {},
     "output_type": "display_data"
    },
    {
     "name": "stderr",
     "output_type": "stream",
     "text": [
      "C:\\Users\\SCDC\\anaconda3\\envs\\pythonProject\\Lib\\site-packages\\lightning\\pytorch\\trainer\\connectors\\data_connector.py:424: The 'val_dataloader' does not have many workers which may be a bottleneck. Consider increasing the value of the `num_workers` argument` to `num_workers=11` in the `DataLoader` to improve performance.\n",
      "C:\\Users\\SCDC\\anaconda3\\envs\\pythonProject\\Lib\\site-packages\\lightning\\pytorch\\trainer\\connectors\\data_connector.py:424: The 'train_dataloader' does not have many workers which may be a bottleneck. Consider increasing the value of the `num_workers` argument` to `num_workers=11` in the `DataLoader` to improve performance.\n"
     ]
    },
    {
     "data": {
      "text/plain": "Training: |          | 0/? [00:00<?, ?it/s]",
      "application/vnd.jupyter.widget-view+json": {
       "version_major": 2,
       "version_minor": 0,
       "model_id": "6a7380ffbba049d38edc08500408f146"
      }
     },
     "metadata": {},
     "output_type": "display_data"
    },
    {
     "data": {
      "text/plain": "Validation: |          | 0/? [00:00<?, ?it/s]",
      "application/vnd.jupyter.widget-view+json": {
       "version_major": 2,
       "version_minor": 0,
       "model_id": "01ffed53f8bb457a961573529e704dba"
      }
     },
     "metadata": {},
     "output_type": "display_data"
    },
    {
     "data": {
      "text/plain": "Validation: |          | 0/? [00:00<?, ?it/s]",
      "application/vnd.jupyter.widget-view+json": {
       "version_major": 2,
       "version_minor": 0,
       "model_id": "6453640907024302bd9693dd0a1479ea"
      }
     },
     "metadata": {},
     "output_type": "display_data"
    },
    {
     "data": {
      "text/plain": "Validation: |          | 0/? [00:00<?, ?it/s]",
      "application/vnd.jupyter.widget-view+json": {
       "version_major": 2,
       "version_minor": 0,
       "model_id": "637bbf63eaab441cae600d9a39a83d5a"
      }
     },
     "metadata": {},
     "output_type": "display_data"
    },
    {
     "data": {
      "text/plain": "Validation: |          | 0/? [00:00<?, ?it/s]",
      "application/vnd.jupyter.widget-view+json": {
       "version_major": 2,
       "version_minor": 0,
       "model_id": "8f75d802e1f6494a92954d3804291a93"
      }
     },
     "metadata": {},
     "output_type": "display_data"
    },
    {
     "data": {
      "text/plain": "Validation: |          | 0/? [00:00<?, ?it/s]",
      "application/vnd.jupyter.widget-view+json": {
       "version_major": 2,
       "version_minor": 0,
       "model_id": "72e72c44820c4063902d82868b2a1d45"
      }
     },
     "metadata": {},
     "output_type": "display_data"
    },
    {
     "data": {
      "text/plain": "Validation: |          | 0/? [00:00<?, ?it/s]",
      "application/vnd.jupyter.widget-view+json": {
       "version_major": 2,
       "version_minor": 0,
       "model_id": "7e070ea18e7a4f5da6741ab437847249"
      }
     },
     "metadata": {},
     "output_type": "display_data"
    },
    {
     "data": {
      "text/plain": "Validation: |          | 0/? [00:00<?, ?it/s]",
      "application/vnd.jupyter.widget-view+json": {
       "version_major": 2,
       "version_minor": 0,
       "model_id": "d141e98432564bbf822b7b0ba003e1f4"
      }
     },
     "metadata": {},
     "output_type": "display_data"
    },
    {
     "data": {
      "text/plain": "Validation: |          | 0/? [00:00<?, ?it/s]",
      "application/vnd.jupyter.widget-view+json": {
       "version_major": 2,
       "version_minor": 0,
       "model_id": "138cfd3092e742f9b2b74979cb47a8bf"
      }
     },
     "metadata": {},
     "output_type": "display_data"
    },
    {
     "data": {
      "text/plain": "Validation: |          | 0/? [00:00<?, ?it/s]",
      "application/vnd.jupyter.widget-view+json": {
       "version_major": 2,
       "version_minor": 0,
       "model_id": "1341d825aac34158b08960df60a15584"
      }
     },
     "metadata": {},
     "output_type": "display_data"
    },
    {
     "data": {
      "text/plain": "Validation: |          | 0/? [00:00<?, ?it/s]",
      "application/vnd.jupyter.widget-view+json": {
       "version_major": 2,
       "version_minor": 0,
       "model_id": "855ca07654a44816a5e7fb4b81567b34"
      }
     },
     "metadata": {},
     "output_type": "display_data"
    },
    {
     "data": {
      "text/plain": "Validation: |          | 0/? [00:00<?, ?it/s]",
      "application/vnd.jupyter.widget-view+json": {
       "version_major": 2,
       "version_minor": 0,
       "model_id": "cea07b2982a24c9fa1d68e05891c86b4"
      }
     },
     "metadata": {},
     "output_type": "display_data"
    },
    {
     "data": {
      "text/plain": "Validation: |          | 0/? [00:00<?, ?it/s]",
      "application/vnd.jupyter.widget-view+json": {
       "version_major": 2,
       "version_minor": 0,
       "model_id": "95513348ac6142bb858b2ed60fa75198"
      }
     },
     "metadata": {},
     "output_type": "display_data"
    },
    {
     "data": {
      "text/plain": "Validation: |          | 0/? [00:00<?, ?it/s]",
      "application/vnd.jupyter.widget-view+json": {
       "version_major": 2,
       "version_minor": 0,
       "model_id": "9b282df1165b44a89b17b66e88104d62"
      }
     },
     "metadata": {},
     "output_type": "display_data"
    },
    {
     "data": {
      "text/plain": "Validation: |          | 0/? [00:00<?, ?it/s]",
      "application/vnd.jupyter.widget-view+json": {
       "version_major": 2,
       "version_minor": 0,
       "model_id": "5d8dbb5ec2b649b5bbb6a470d70abccc"
      }
     },
     "metadata": {},
     "output_type": "display_data"
    },
    {
     "data": {
      "text/plain": "Validation: |          | 0/? [00:00<?, ?it/s]",
      "application/vnd.jupyter.widget-view+json": {
       "version_major": 2,
       "version_minor": 0,
       "model_id": "85f90def4b3843f5aef684f9f367664e"
      }
     },
     "metadata": {},
     "output_type": "display_data"
    },
    {
     "data": {
      "text/plain": "Validation: |          | 0/? [00:00<?, ?it/s]",
      "application/vnd.jupyter.widget-view+json": {
       "version_major": 2,
       "version_minor": 0,
       "model_id": "f8be448deea041abad47c5ccc557cb56"
      }
     },
     "metadata": {},
     "output_type": "display_data"
    },
    {
     "data": {
      "text/plain": "Validation: |          | 0/? [00:00<?, ?it/s]",
      "application/vnd.jupyter.widget-view+json": {
       "version_major": 2,
       "version_minor": 0,
       "model_id": "20d11c9412b24876b5003e7763adfc1f"
      }
     },
     "metadata": {},
     "output_type": "display_data"
    },
    {
     "data": {
      "text/plain": "Validation: |          | 0/? [00:00<?, ?it/s]",
      "application/vnd.jupyter.widget-view+json": {
       "version_major": 2,
       "version_minor": 0,
       "model_id": "588a05f4dee649c0b62a19e9f963abc9"
      }
     },
     "metadata": {},
     "output_type": "display_data"
    },
    {
     "data": {
      "text/plain": "Validation: |          | 0/? [00:00<?, ?it/s]",
      "application/vnd.jupyter.widget-view+json": {
       "version_major": 2,
       "version_minor": 0,
       "model_id": "8460a1a50ec84af282e1bfa06e0ffd77"
      }
     },
     "metadata": {},
     "output_type": "display_data"
    },
    {
     "data": {
      "text/plain": "Validation: |          | 0/? [00:00<?, ?it/s]",
      "application/vnd.jupyter.widget-view+json": {
       "version_major": 2,
       "version_minor": 0,
       "model_id": "d290a1ee07b3498496782ba89634b447"
      }
     },
     "metadata": {},
     "output_type": "display_data"
    },
    {
     "name": "stderr",
     "output_type": "stream",
     "text": [
      "`Trainer.fit` stopped: `max_epochs=20` reached.\n",
      "C:\\Users\\SCDC\\anaconda3\\envs\\pythonProject\\Lib\\site-packages\\lightning\\pytorch\\trainer\\connectors\\data_connector.py:424: The 'predict_dataloader' does not have many workers which may be a bottleneck. Consider increasing the value of the `num_workers` argument` to `num_workers=11` in the `DataLoader` to improve performance.\n"
     ]
    },
    {
     "data": {
      "text/plain": "Predicting: |          | 0/? [00:00<?, ?it/s]",
      "application/vnd.jupyter.widget-view+json": {
       "version_major": 2,
       "version_minor": 0,
       "model_id": "5e049696465f4dc9abbfa3ca6d925dbf"
      }
     },
     "metadata": {},
     "output_type": "display_data"
    },
    {
     "name": "stdout",
     "output_type": "stream",
     "text": [
      "Binary Accuracy: 0.8250\n",
      "Binary F1 Score: 0.7942\n",
      "Precision: 0.8486\n",
      "Recall: 0.7463\n"
     ]
    },
    {
     "data": {
      "text/plain": "<Figure size 640x480 with 1 Axes>",
      "image/png": "[encoded data removed]"
     },
     "metadata": {},
     "output_type": "display_data"
    },
    {
     "data": {
      "text/plain": "<Figure size 640x480 with 1 Axes>",
      "image/png": "[encoded data removed]"
     },
     "metadata": {},
     "output_type": "display_data"
    }
   ],
   "source": [
    "#程序拟合\n",
    "import os\n",
    "import pandas as pd\n",
    "import torch\n",
    "import numpy as np\n",
    "import matplotlib.pyplot as plt\n",
    "from sklearn.metrics import accuracy_score, f1_score, precision_score, recall_score, roc_curve, auc, precision_recall_curve\n",
    "from lightning import pytorch as pl\n",
    "from chemprop import data, featurizers, models, nn\n",
    "from torch.optim import Adam\n",
    "from torch.optim.lr_scheduler import ReduceLROnPlateau\n",
    "\n",
    "# 创建结果文件夹\n",
    "results_dir = 'results'\n",
    "os.makedirs(results_dir, exist_ok=True)\n",
    "\n",
    "# 数据加载\n",
    "input_path = \"smiles_10449_train_test.csv\"  # path to your data .csv file\n",
    "num_workers = 0  # number of workers for dataloader\n",
    "smiles_column = 'SMILES'  # name of the column containing SMILES strings\n",
    "target_columns = ['Toxicity']  # classification of activity (either 0 or 1)\n",
    "df_input = pd.read_csv(input_path)\n",
    "\n",
    "# 数据预处理\n",
    "smis = df_input.loc[:, smiles_column].values\n",
    "ys = df_input.loc[:, target_columns].values\n",
    "all_data = [data.MoleculeDatapoint.from_smi(smi, y) for smi, y in zip(smis, ys)]\n",
    "\n",
    "# 数据拆分\n",
    "mols = [d.mol for d in all_data]\n",
    "train_indices, val_indices, test_indices = data.make_split_indices(mols, \"random\", (0.8, 0.1, 0.1))\n",
    "train_data, val_data, test_data = data.split_data_by_indices(all_data, train_indices, val_indices, test_indices)\n",
    "\n",
    "# 特征提取\n",
    "featurizer = featurizers.SimpleMoleculeMolGraphFeaturizer()\n",
    "train_dset = data.MoleculeDataset(train_data[0], featurizer)\n",
    "val_dset = data.MoleculeDataset(val_data[0], featurizer)\n",
    "test_dset = data.MoleculeDataset(test_data[0], featurizer)\n",
    "train_loader = data.build_dataloader(train_dset, num_workers=num_workers)\n",
    "val_loader = data.build_dataloader(val_dset, num_workers=num_workers, shuffle=False)\n",
    "test_loader = data.build_dataloader(test_dset, num_workers=num_workers, shuffle=False)\n",
    "\n",
    "# 自定义模型\n",
    "class MyMPNNModel(models.MPNN):\n",
    "    def __init__(self, mp, agg, ffn, batch_norm, metric_list):\n",
    "        super().__init__(mp, agg, ffn, batch_norm, metric_list)\n",
    "\n",
    "    def configure_optimizers(self):\n",
    "        optimizer = Adam(self.parameters(), lr=1e-3)\n",
    "        lr_scheduler = {\n",
    "            'scheduler': ReduceLROnPlateau(optimizer, factor=0.5, patience=5, verbose=True),\n",
    "            'monitor': 'val_loss',\n",
    "            'frequency': 1,\n",
    "        }\n",
    "        return {\n",
    "            'optimizer': optimizer,\n",
    "            'lr_scheduler': lr_scheduler,\n",
    "        }\n",
    "\n",
    "# 模型初始化\n",
    "mp = nn.BondMessagePassing()\n",
    "agg = nn.MeanAggregation()\n",
    "ffn = nn.BinaryClassificationFFN(n_tasks=1)\n",
    "batch_norm = False\n",
    "metric_list = None\n",
    "mpnn = MyMPNNModel(mp, agg, ffn, batch_norm, metric_list)\n",
    "\n",
    "# 训练设置\n",
    "trainer = pl.Trainer(\n",
    "    logger=False,\n",
    "    enable_checkpointing=True,\n",
    "    enable_progress_bar=True,\n",
    "    accelerator=\"cpu\",\n",
    "    devices=1,\n",
    "    max_epochs=20,\n",
    "    callbacks=[pl.callbacks.ModelCheckpoint(dirpath=results_dir, monitor='val_loss', save_top_k=1)],\n",
    ")\n",
    "\n",
    "# 训练模型\n",
    "trainer.fit(mpnn, train_loader, val_loader)\n",
    "\n",
    "# 保存最佳模型\n",
    "best_model_path = os.path.join(results_dir, 'best_model.ckpt')\n",
    "trainer.save_checkpoint(best_model_path)\n",
    "\n",
    "# 测试集预测\n",
    "with torch.inference_mode():\n",
    "    test_preds = trainer.predict(mpnn, test_loader)\n",
    "\n",
    "test_preds = np.concatenate([pred.numpy() for pred in test_preds], axis=0)\n",
    "\n",
    "# 收集测试结果\n",
    "y_true = df_input.iloc[test_indices[0]][target_columns[0]].values.flatten()\n",
    "y_pred = test_preds.flatten()\n",
    "\n",
    "# 二值化预测\n",
    "y_pred_binary = [1 if p >= 0.5 else 0 for p in y_pred]\n",
    "\n",
    "# 计算指标\n",
    "accuracy = accuracy_score(y_true, y_pred_binary)\n",
    "f1 = f1_score(y_true, y_pred_binary)\n",
    "precision = precision_score(y_true, y_pred_binary)\n",
    "recall = recall_score(y_true, y_pred_binary)\n",
    "\n",
    "# 打印结果\n",
    "print(f\"Binary Accuracy: {accuracy:.4f}\")\n",
    "print(f\"Binary F1 Score: {f1:.4f}\")\n",
    "print(f\"Precision: {precision:.4f}\")\n",
    "print(f\"Recall: {recall:.4f}\")\n",
    "\n",
    "# 绘制ROC曲线\n",
    "fpr, tpr, _ = roc_curve(y_true, y_pred)\n",
    "roc_auc = auc(fpr, tpr)\n",
    "plt.figure()\n",
    "plt.plot(fpr, tpr, color='blue', lw=2, label=f'ROC curve (area = {roc_auc:.2f})')\n",
    "plt.plot([0, 1], [0, 1], color='grey', lw=2, linestyle='--')\n",
    "plt.xlabel('False Positive Rate')\n",
    "plt.ylabel('True Positive Rate')\n",
    "plt.title('Receiver Operating Characteristic (ROC) Curve')\n",
    "plt.legend(loc='lower right')\n",
    "plt.savefig(os.path.join(results_dir, 'roc_curve.png'))  # 保存ROC曲线图\n",
    "\n",
    "# 绘制Precision-Recall曲线\n",
    "precision_vals, recall_vals, _ = precision_recall_curve(y_true, y_pred)\n",
    "plt.figure()\n",
    "plt.plot(recall_vals, precision_vals, color='blue', lw=2, label='Precision-Recall curve')\n",
    "plt.xlabel('Recall')\n",
    "plt.ylabel('Precision')\n",
    "plt.title('Precision-Recall Curve')\n",
    "plt.legend(loc='lower left')\n",
    "plt.savefig(os.path.join(results_dir, 'precision_recall_curve.png'))  # 保存Precision-Recall曲线图\n",
    "\n",
    "# 保存测试结果到CSV文件\n",
    "output_df = pd.DataFrame({\n",
    "    'SMILES': df_input.iloc[test_indices[0]][smiles_column].values,\n",
    "    'True_Toxicity': y_true,\n",
    "    'Predicted_Toxicity': y_pred\n",
    "})\n",
    "output_df.to_csv(os.path.join(results_dir, 'test_results.csv'), index=False)\n"
   ],
   "metadata": {
    "collapsed": false,
    "ExecuteTime": {
     "end_time": "2024-10-31T03:26:32.995079900Z",
     "start_time": "2024-10-31T03:20:33.960618600Z"
    }
   }
  },
  {
   "cell_type": "code",
   "execution_count": 25,
   "outputs": [
    {
     "name": "stderr",
     "output_type": "stream",
     "text": [
      "C:\\Users\\SCDC\\anaconda3\\envs\\pythonProject\\Lib\\site-packages\\lightning\\pytorch\\trainer\\connectors\\data_connector.py:424: The 'predict_dataloader' does not have many workers which may be a bottleneck. Consider increasing the value of the `num_workers` argument` to `num_workers=11` in the `DataLoader` to improve performance.\n"
     ]
    },
    {
     "data": {
      "text/plain": "Predicting: |          | 0/? [00:00<?, ?it/s]",
      "application/vnd.jupyter.widget-view+json": {
       "version_major": 2,
       "version_minor": 0,
       "model_id": "c27b763d925b478b99bef0ce7c51f2ae"
      }
     },
     "metadata": {},
     "output_type": "display_data"
    },
    {
     "name": "stdout",
     "output_type": "stream",
     "text": [
      "未知化合物的预测结果已保存至 'unknown_predictions.csv'.\n"
     ]
    }
   ],
   "source": [
    "#未知预测\n",
    "# 加载未知化合物数据\n",
    "unknown_input_path = \"unknown_compounds.csv\"  # 你的未知化合物.csv文件路径\n",
    "unknown_df = pd.read_csv(unknown_input_path)\n",
    "\n",
    "# 确保SMILES列的名称正确\n",
    "unknown_smiles_column = 'SMILES'  # 包含SMILES字符串的列名\n",
    "unknown_smis = unknown_df.loc[:, unknown_smiles_column].values\n",
    "\n",
    "# 预处理未知化合物数据\n",
    "unknown_data = [data.MoleculeDatapoint.from_smi(smi, None) for smi in unknown_smis]\n",
    "unknown_mols = [d.mol for d in unknown_data]\n",
    "unknown_dset = data.MoleculeDataset(unknown_data, featurizer)\n",
    "unknown_loader = data.build_dataloader(unknown_dset, num_workers=num_workers, shuffle=False)\n",
    "\n",
    "# 对未知化合物进行预测\n",
    "with torch.inference_mode():\n",
    "    unknown_preds = trainer.predict(mpnn, unknown_loader)\n",
    "\n",
    "unknown_preds = np.concatenate([pred.numpy() for pred in unknown_preds], axis=0)\n",
    "\n",
    "# 将预测结果二值化\n",
    "unknown_preds_binary = [1 if p >= 0.5 else 0 for p in unknown_preds.flatten()]\n",
    "\n",
    "# 将预测结果保存到CSV文件\n",
    "unknown_output_df = pd.DataFrame({\n",
    "    'Compound_Name': unknown_df['Name'],  # 假设你有这一列\n",
    "    'SMILES': unknown_df[unknown_smiles_column].values,\n",
    "    'Predicted_Toxicity': unknown_preds_binary\n",
    "})\n",
    "\n",
    "unknown_output_df.to_csv(os.path.join(results_dir, 'unknown_predictions.csv'), index=False)\n",
    "\n",
    "print(\"未知化合物的预测结果已保存至 'unknown_predictions.csv'.\")\n"
   ],
   "metadata": {
    "collapsed": false,
    "ExecuteTime": {
     "end_time": "2024-10-31T08:54:22.691020600Z",
     "start_time": "2024-10-31T08:54:22.094309Z"
    }
   }
  }
 ],
 "metadata": {
  "kernelspec": {
   "display_name": "chemprop",
   "language": "python",
   "name": "python3"
  },
  "language_info": {
   "codemirror_mode": {
    "name": "ipython",
    "version": 3
   },
   "file_extension": ".py",
   "mimetype": "text/x-python",
   "name": "python",
   "nbconvert_exporter": "python",
   "pygments_lexer": "ipython3",
   "version": "3.11.8"
  }
 },
 "nbformat": 4,
 "nbformat_minor": 4
}
